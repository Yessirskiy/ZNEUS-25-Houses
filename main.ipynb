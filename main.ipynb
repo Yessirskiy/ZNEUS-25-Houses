{
 "cells": [
  {
   "cell_type": "markdown",
   "id": "fd321441-5edc-4221-877e-77f1c35e5dbc",
   "metadata": {},
   "source": [
    "# ZNEUS 2025 - HOUSES"
   ]
  },
  {
   "cell_type": "markdown",
   "id": "136e4a2f-4206-4e9e-8bd6-dcbfc03cfba9",
   "metadata": {},
   "source": [
    "### Vypracovali: Dobrydnev Nikolai & Šeliga Milan"
   ]
  },
  {
   "cell_type": "markdown",
   "id": "a6e59f77-bae2-45d5-9287-40fa1992b36d",
   "metadata": {},
   "source": [
    "# EDA"
   ]
  },
  {
   "cell_type": "code",
   "execution_count": null,
   "id": "3033c2e9-a2c4-42fe-ab06-5ef02b5c81ba",
   "metadata": {},
   "outputs": [],
   "source": []
  }
 ],
 "metadata": {
  "kernelspec": {
   "display_name": "venv",
   "language": "python",
   "name": "venv"
  },
  "language_info": {
   "codemirror_mode": {
    "name": "ipython",
    "version": 3
   },
   "file_extension": ".py",
   "mimetype": "text/x-python",
   "name": "python",
   "nbconvert_exporter": "python",
   "pygments_lexer": "ipython3",
   "version": "3.11.5"
  }
 },
 "nbformat": 4,
 "nbformat_minor": 5
}
